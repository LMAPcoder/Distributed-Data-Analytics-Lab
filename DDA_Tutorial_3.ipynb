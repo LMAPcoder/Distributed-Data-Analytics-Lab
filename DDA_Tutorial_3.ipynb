{
  "nbformat": 4,
  "nbformat_minor": 0,
  "metadata": {
    "colab": {
      "provenance": [],
      "authorship_tag": "ABX9TyOwrRbni0kYkx7IGpFFj/fF"
    },
    "kernelspec": {
      "name": "python3",
      "display_name": "Python 3"
    },
    "language_info": {
      "name": "python"
    }
  },
  "cells": [
    {
      "cell_type": "markdown",
      "source": [
        "#**Lab Distributed Data Analytics**"
      ],
      "metadata": {
        "id": "uCTM-UseEKqN"
      }
    },
    {
      "cell_type": "markdown",
      "source": [
        "##Tutorial 3"
      ],
      "metadata": {
        "id": "9loVfcz_ELws"
      }
    },
    {
      "cell_type": "code",
      "source": [
        "#Displaying information about the CPU architecture\n",
        "import subprocess\n",
        "result = subprocess.run(['lscpu'], stdout=subprocess.PIPE, shell=True, text=True)\n",
        "print(result.stdout[:800])"
      ],
      "metadata": {
        "colab": {
          "base_uri": "https://localhost:8080/"
        },
        "id": "VTRhIB_FpG8D",
        "outputId": "15cf952b-deff-40e5-f780-a2895f0c2365"
      },
      "execution_count": null,
      "outputs": [
        {
          "output_type": "stream",
          "name": "stdout",
          "text": [
            "Architecture:                    x86_64\n",
            "CPU op-mode(s):                  32-bit, 64-bit\n",
            "Byte Order:                      Little Endian\n",
            "Address sizes:                   46 bits physical, 48 bits virtual\n",
            "CPU(s):                          2\n",
            "On-line CPU(s) list:             0,1\n",
            "Thread(s) per core:              2\n",
            "Core(s) per socket:              1\n",
            "Socket(s):                       1\n",
            "NUMA node(s):                    1\n",
            "Vendor ID:                       GenuineIntel\n",
            "CPU family:                      6\n",
            "Model:                           79\n",
            "Model name:                      Intel(R) Xeon(R) CPU @ 2.20GHz\n",
            "Stepping:                        0\n",
            "CPU MHz:                         2200.160\n",
            "BogoMIPS:                        4400.32\n",
            "Hypervisor vendor:               KVM\n",
            "Virtualization type:             full\n",
            "L1d cache:  \n"
          ]
        }
      ]
    },
    {
      "cell_type": "code",
      "source": [
        "import os\n",
        "os.cpu_count() #number of logical CPU cores"
      ],
      "metadata": {
        "colab": {
          "base_uri": "https://localhost:8080/"
        },
        "id": "CmKRhqT-4smp",
        "outputId": "271054f4-af01-4764-9c37-5a27a805d847"
      },
      "execution_count": null,
      "outputs": [
        {
          "output_type": "execute_result",
          "data": {
            "text/plain": [
              "2"
            ]
          },
          "metadata": {},
          "execution_count": 8
        }
      ]
    },
    {
      "cell_type": "code",
      "source": [
        "#Verifying open mpi installation\n",
        "!ompi_info --version"
      ],
      "metadata": {
        "colab": {
          "base_uri": "https://localhost:8080/"
        },
        "id": "41PW8jabaFiy",
        "outputId": "ce626496-01be-4ba5-c4d2-8f33782a4f0a"
      },
      "execution_count": null,
      "outputs": [
        {
          "output_type": "stream",
          "name": "stdout",
          "text": [
            "Open MPI v4.0.3\n",
            "\n",
            "http://www.open-mpi.org/community/help/\n"
          ]
        }
      ]
    },
    {
      "cell_type": "code",
      "source": [
        "#Installing python library mpi4py\n",
        "!pip install --quiet mpi4py"
      ],
      "metadata": {
        "colab": {
          "base_uri": "https://localhost:8080/"
        },
        "id": "k42krZ-2ZdNa",
        "outputId": "3b7f5b96-f4b2-4099-93f3-8cf6258cfe1d"
      },
      "execution_count": null,
      "outputs": [
        {
          "output_type": "stream",
          "name": "stdout",
          "text": [
            "\u001b[?25l     \u001b[90m━━━━━━━━━━━━━━━━━━━━━━━━━━━━━━━━━━━━━━━━\u001b[0m \u001b[32m0.0/2.5 MB\u001b[0m \u001b[31m?\u001b[0m eta \u001b[36m-:--:--\u001b[0m\r\u001b[2K     \u001b[91m━━━━━━━━━━━━\u001b[0m\u001b[91m╸\u001b[0m\u001b[90m━━━━━━━━━━━━━━━━━━━━━━━━━━━\u001b[0m \u001b[32m0.8/2.5 MB\u001b[0m \u001b[31m24.4 MB/s\u001b[0m eta \u001b[36m0:00:01\u001b[0m\r\u001b[2K     \u001b[91m━━━━━━━━━━━━━━━━━━━━━━━━━━━━━━━━━━━━━━━\u001b[0m\u001b[91m╸\u001b[0m \u001b[32m2.5/2.5 MB\u001b[0m \u001b[31m45.2 MB/s\u001b[0m eta \u001b[36m0:00:01\u001b[0m\r\u001b[2K     \u001b[90m━━━━━━━━━━━━━━━━━━━━━━━━━━━━━━━━━━━━━━━━\u001b[0m \u001b[32m2.5/2.5 MB\u001b[0m \u001b[31m27.7 MB/s\u001b[0m eta \u001b[36m0:00:00\u001b[0m\n",
            "\u001b[?25h  Installing build dependencies ... \u001b[?25l\u001b[?25hdone\n",
            "  Getting requirements to build wheel ... \u001b[?25l\u001b[?25hdone\n",
            "  Preparing metadata (pyproject.toml) ... \u001b[?25l\u001b[?25hdone\n",
            "  Building wheel for mpi4py (pyproject.toml) ... \u001b[?25l\u001b[?25hdone\n"
          ]
        }
      ]
    },
    {
      "cell_type": "markdown",
      "source": [
        "### 1 Load the Data"
      ],
      "metadata": {
        "id": "UV2CE24cY8oC"
      }
    },
    {
      "cell_type": "code",
      "execution_count": null,
      "metadata": {
        "id": "B1V3bq-BW4it"
      },
      "outputs": [],
      "source": [
        "#Uploading the file from Google drive\n",
        "id = '1ThvAlpdgL2njClDDsCInADaMS9UTHjcw'\n",
        "\n",
        "!wget --no-check-certificate --quiet 'https://docs.google.com/uc?export=download&id={id}' -O cluster_data.csv"
      ]
    },
    {
      "cell_type": "code",
      "source": [
        "import pandas as pd\n",
        "\n",
        "df = pd.read_csv(\"cluster_data.csv\", header=0, index_col=0)\n",
        "df"
      ],
      "metadata": {
        "colab": {
          "base_uri": "https://localhost:8080/",
          "height": 424
        },
        "id": "uWQhZOBVjCAc",
        "outputId": "d653d456-0019-4e93-c899-97e0e658889e"
      },
      "execution_count": null,
      "outputs": [
        {
          "output_type": "execute_result",
          "data": {
            "text/plain": [
              "            x         y\n",
              "0   -1.066267 -1.073793\n",
              "1   -0.534204 -0.886694\n",
              "2   -1.091807 -0.981547\n",
              "3   -1.353266 -0.762833\n",
              "4   -1.117779 -0.763639\n",
              "..        ...       ...\n",
              "395  1.155243  0.558194\n",
              "396  1.159506  0.377489\n",
              "397  0.571360  0.942956\n",
              "398  1.031360  0.966871\n",
              "399  0.729984  0.758701\n",
              "\n",
              "[400 rows x 2 columns]"
            ],
            "text/html": [
              "\n",
              "  <div id=\"df-7107aa7e-f383-44b4-951e-df674305bd8a\">\n",
              "    <div class=\"colab-df-container\">\n",
              "      <div>\n",
              "<style scoped>\n",
              "    .dataframe tbody tr th:only-of-type {\n",
              "        vertical-align: middle;\n",
              "    }\n",
              "\n",
              "    .dataframe tbody tr th {\n",
              "        vertical-align: top;\n",
              "    }\n",
              "\n",
              "    .dataframe thead th {\n",
              "        text-align: right;\n",
              "    }\n",
              "</style>\n",
              "<table border=\"1\" class=\"dataframe\">\n",
              "  <thead>\n",
              "    <tr style=\"text-align: right;\">\n",
              "      <th></th>\n",
              "      <th>x</th>\n",
              "      <th>y</th>\n",
              "    </tr>\n",
              "  </thead>\n",
              "  <tbody>\n",
              "    <tr>\n",
              "      <th>0</th>\n",
              "      <td>-1.066267</td>\n",
              "      <td>-1.073793</td>\n",
              "    </tr>\n",
              "    <tr>\n",
              "      <th>1</th>\n",
              "      <td>-0.534204</td>\n",
              "      <td>-0.886694</td>\n",
              "    </tr>\n",
              "    <tr>\n",
              "      <th>2</th>\n",
              "      <td>-1.091807</td>\n",
              "      <td>-0.981547</td>\n",
              "    </tr>\n",
              "    <tr>\n",
              "      <th>3</th>\n",
              "      <td>-1.353266</td>\n",
              "      <td>-0.762833</td>\n",
              "    </tr>\n",
              "    <tr>\n",
              "      <th>4</th>\n",
              "      <td>-1.117779</td>\n",
              "      <td>-0.763639</td>\n",
              "    </tr>\n",
              "    <tr>\n",
              "      <th>...</th>\n",
              "      <td>...</td>\n",
              "      <td>...</td>\n",
              "    </tr>\n",
              "    <tr>\n",
              "      <th>395</th>\n",
              "      <td>1.155243</td>\n",
              "      <td>0.558194</td>\n",
              "    </tr>\n",
              "    <tr>\n",
              "      <th>396</th>\n",
              "      <td>1.159506</td>\n",
              "      <td>0.377489</td>\n",
              "    </tr>\n",
              "    <tr>\n",
              "      <th>397</th>\n",
              "      <td>0.571360</td>\n",
              "      <td>0.942956</td>\n",
              "    </tr>\n",
              "    <tr>\n",
              "      <th>398</th>\n",
              "      <td>1.031360</td>\n",
              "      <td>0.966871</td>\n",
              "    </tr>\n",
              "    <tr>\n",
              "      <th>399</th>\n",
              "      <td>0.729984</td>\n",
              "      <td>0.758701</td>\n",
              "    </tr>\n",
              "  </tbody>\n",
              "</table>\n",
              "<p>400 rows × 2 columns</p>\n",
              "</div>\n",
              "      <button class=\"colab-df-convert\" onclick=\"convertToInteractive('df-7107aa7e-f383-44b4-951e-df674305bd8a')\"\n",
              "              title=\"Convert this dataframe to an interactive table.\"\n",
              "              style=\"display:none;\">\n",
              "        \n",
              "  <svg xmlns=\"http://www.w3.org/2000/svg\" height=\"24px\"viewBox=\"0 0 24 24\"\n",
              "       width=\"24px\">\n",
              "    <path d=\"M0 0h24v24H0V0z\" fill=\"none\"/>\n",
              "    <path d=\"M18.56 5.44l.94 2.06.94-2.06 2.06-.94-2.06-.94-.94-2.06-.94 2.06-2.06.94zm-11 1L8.5 8.5l.94-2.06 2.06-.94-2.06-.94L8.5 2.5l-.94 2.06-2.06.94zm10 10l.94 2.06.94-2.06 2.06-.94-2.06-.94-.94-2.06-.94 2.06-2.06.94z\"/><path d=\"M17.41 7.96l-1.37-1.37c-.4-.4-.92-.59-1.43-.59-.52 0-1.04.2-1.43.59L10.3 9.45l-7.72 7.72c-.78.78-.78 2.05 0 2.83L4 21.41c.39.39.9.59 1.41.59.51 0 1.02-.2 1.41-.59l7.78-7.78 2.81-2.81c.8-.78.8-2.07 0-2.86zM5.41 20L4 18.59l7.72-7.72 1.47 1.35L5.41 20z\"/>\n",
              "  </svg>\n",
              "      </button>\n",
              "      \n",
              "  <style>\n",
              "    .colab-df-container {\n",
              "      display:flex;\n",
              "      flex-wrap:wrap;\n",
              "      gap: 12px;\n",
              "    }\n",
              "\n",
              "    .colab-df-convert {\n",
              "      background-color: #E8F0FE;\n",
              "      border: none;\n",
              "      border-radius: 50%;\n",
              "      cursor: pointer;\n",
              "      display: none;\n",
              "      fill: #1967D2;\n",
              "      height: 32px;\n",
              "      padding: 0 0 0 0;\n",
              "      width: 32px;\n",
              "    }\n",
              "\n",
              "    .colab-df-convert:hover {\n",
              "      background-color: #E2EBFA;\n",
              "      box-shadow: 0px 1px 2px rgba(60, 64, 67, 0.3), 0px 1px 3px 1px rgba(60, 64, 67, 0.15);\n",
              "      fill: #174EA6;\n",
              "    }\n",
              "\n",
              "    [theme=dark] .colab-df-convert {\n",
              "      background-color: #3B4455;\n",
              "      fill: #D2E3FC;\n",
              "    }\n",
              "\n",
              "    [theme=dark] .colab-df-convert:hover {\n",
              "      background-color: #434B5C;\n",
              "      box-shadow: 0px 1px 3px 1px rgba(0, 0, 0, 0.15);\n",
              "      filter: drop-shadow(0px 1px 2px rgba(0, 0, 0, 0.3));\n",
              "      fill: #FFFFFF;\n",
              "    }\n",
              "  </style>\n",
              "\n",
              "      <script>\n",
              "        const buttonEl =\n",
              "          document.querySelector('#df-7107aa7e-f383-44b4-951e-df674305bd8a button.colab-df-convert');\n",
              "        buttonEl.style.display =\n",
              "          google.colab.kernel.accessAllowed ? 'block' : 'none';\n",
              "\n",
              "        async function convertToInteractive(key) {\n",
              "          const element = document.querySelector('#df-7107aa7e-f383-44b4-951e-df674305bd8a');\n",
              "          const dataTable =\n",
              "            await google.colab.kernel.invokeFunction('convertToInteractive',\n",
              "                                                     [key], {});\n",
              "          if (!dataTable) return;\n",
              "\n",
              "          const docLinkHtml = 'Like what you see? Visit the ' +\n",
              "            '<a target=\"_blank\" href=https://colab.research.google.com/notebooks/data_table.ipynb>data table notebook</a>'\n",
              "            + ' to learn more about interactive tables.';\n",
              "          element.innerHTML = '';\n",
              "          dataTable['output_type'] = 'display_data';\n",
              "          await google.colab.output.renderOutput(dataTable, element);\n",
              "          const docLink = document.createElement('div');\n",
              "          docLink.innerHTML = docLinkHtml;\n",
              "          element.appendChild(docLink);\n",
              "        }\n",
              "      </script>\n",
              "    </div>\n",
              "  </div>\n",
              "  "
            ]
          },
          "metadata": {},
          "execution_count": 94
        }
      ]
    },
    {
      "cell_type": "code",
      "source": [
        "df.plot(x='x', y='y', kind='scatter', title='Data points', marker='.')"
      ],
      "metadata": {
        "colab": {
          "base_uri": "https://localhost:8080/",
          "height": 489
        },
        "id": "mbip1gsclIVH",
        "outputId": "d81cb847-db0d-4aa2-c716-e566e95f59b0"
      },
      "execution_count": null,
      "outputs": [
        {
          "output_type": "execute_result",
          "data": {
            "text/plain": [
              "<Axes: title={'center': 'Data points'}, xlabel='x', ylabel='y'>"
            ]
          },
          "metadata": {},
          "execution_count": 113
        },
        {
          "output_type": "display_data",
          "data": {
            "text/plain": [
              "<Figure size 640x480 with 1 Axes>"
            ],
            "image/png": "[encoded data removed]"
          },
          "metadata": {}
        }
      ]
    },
    {
      "cell_type": "markdown",
      "source": [
        "### 2 Ramp Up y 3 K-Means"
      ],
      "metadata": {
        "id": "ilLjlsKomSny"
      }
    },
    {
      "cell_type": "code",
      "source": [
        "# %%writefile ex2.py\n",
        "\n",
        "from mpi4py import MPI\n",
        "import numpy as np\n",
        "import pandas as pd\n",
        "import sys\n",
        "\n",
        "comm = MPI.COMM_WORLD                   #communicator\n",
        "rank = comm.Get_rank()                  #number of the process running the code\n",
        "size = comm.Get_size()                  #total number of processes running\n",
        "myHostName = MPI.Get_processor_name()   #machine name running the code\n",
        "\n",
        "np.random.seed(seed=3116)\n",
        "\n",
        "#Clustering with K-mean\n",
        "def centroid(vector,centroids):\n",
        "\n",
        "  cluster = np.zeros(len(vector))\n",
        "\n",
        "  for idx, row in enumerate(vector):\n",
        "    distances = list()\n",
        "    for centroid in centroids:\n",
        "      d = ((row-centroid)**2).sum()**(1/2) #euclidean distance\n",
        "      distances.append(d)\n",
        "    cluster[idx] = np.argmin(distances) #assign the closest cluster\n",
        "\n",
        "  new_centroids = pd.DataFrame(vector).groupby(by=cluster).mean().values\n",
        "\n",
        "  if len(new_centroids) != len(centroids): #safe when there is a cluster with no samples\n",
        "    new_centroids = centroids\n",
        "\n",
        "  return new_centroids, cluster\n",
        "\n",
        "def K_mean(K):\n",
        "\n",
        "  t_0 = MPI.Wtime() #start time\n",
        "\n",
        "  if size == 1: #code execute if the number of process is 1 (no parallelization)\n",
        "\n",
        "    df_data = pd.read_csv(\"cluster_data.csv\", header=0, index_col=0).values\n",
        "\n",
        "    t_1 = MPI.Wtime() #time to load the data\n",
        "\n",
        "    print('Time to load the data:',t_1-t_0)\n",
        "\n",
        "    idx = np.random.choice(len(df_data), K, replace=False) #random indices among the elements of vector\n",
        "    centroids = np.array(df_data)[idx] #centroid matrix\n",
        "\n",
        "    i = 0\n",
        "    converge = True\n",
        "    while converge: #iterative process\n",
        "\n",
        "      new_centroids, cluster = centroid(df_data,centroids)\n",
        "      if abs((new_centroids - centroids).sum()) < 0.01: #difference between two consecutive set of centroids\n",
        "        converge = False\n",
        "      else:\n",
        "        centroids = new_centroids\n",
        "        i += 1\n",
        "\n",
        "    t_2 = MPI.Wtime() #timing the clusterization\n",
        "\n",
        "    print('Time to clusterize the data:',t_2-t_1)\n",
        "\n",
        "    #Exporting dataframes as csv files\n",
        "    pd.DataFrame(cluster).to_csv(f'ex2_cluster.csv',index=False,header=False)\n",
        "    pd.DataFrame(new_centroids).to_csv(f'ex2_centroids.csv',index=False,header=False)\n",
        "\n",
        "  else: #code execute if the number of process is greater than 1 (parallelization)\n",
        "\n",
        "    splits = None\n",
        "    centroids = None\n",
        "    converge = True\n",
        "\n",
        "    if rank == 0: #master node\n",
        "\n",
        "      df_data = pd.read_csv(\"cluster_data.csv\", header=0, index_col=0).values\n",
        "\n",
        "      t_1 = MPI.Wtime() #time to load the data\n",
        "\n",
        "      print('Time to load the data:',t_1-t_0)\n",
        "\n",
        "      splits = np.array_split(np.random.permutation(df_data), size, axis=0) #spliting the dataset\n",
        "\n",
        "      idx = np.random.choice(len(df_data), K, replace=False) #random indices among the elements of vector\n",
        "      centroids = np.array(df_data)[idx] #centroid matrix\n",
        "\n",
        "      i = 0\n",
        "\n",
        "    portion = comm.scatter(splits, root=0) #chunks are distributed across the workers\n",
        "\n",
        "    while converge: #iterative process\n",
        "\n",
        "      centroids = comm.bcast(centroids, root=0) #centroids are distributed across the workers\n",
        "\n",
        "      new_centroids, cluster = centroid(portion,centroids) #each worker computes a new set of centroids\n",
        "      data = comm.gather(new_centroids, root=0)\n",
        "\n",
        "      if rank == 0:\n",
        "        new_centroids = np.array(data).mean(axis=0)\n",
        "\n",
        "        if abs((new_centroids - centroids).sum()) < 0.01: #master computes the difference between consecutive centroids\n",
        "          converge = False\n",
        "        else:\n",
        "          centroids = new_centroids\n",
        "          i += 1\n",
        "\n",
        "      converge = comm.bcast(converge, root=0) #master signal when the algorithm has converged\n",
        "\n",
        "    if rank == 0: #master node\n",
        "\n",
        "      new_centroids, cluster = centroid(df_data,centroids)\n",
        "\n",
        "      t_2 = MPI.Wtime() #timing the clusterization\n",
        "      print('Time to clusterize the data:',t_2-t_1)\n",
        "\n",
        "      #Exporting dataframes as csv files\n",
        "      pd.DataFrame(cluster).to_csv(f'ex2_cluster.csv',index=False,header=False)\n",
        "      pd.DataFrame(new_centroids).to_csv(f'ex2_centroids.csv',index=False,header=False)\n",
        "\n",
        "\n",
        "K = int(sys.argv[1])\n",
        "\n",
        "if rank == 0:\n",
        "  print(f'Cores: {size}')\n",
        "  print(f'K={K}')\n",
        "\n",
        "K_mean(K)\n",
        "\n",
        "\n",
        "MPI.Finalize()"
      ],
      "metadata": {
        "id": "tr6JrEWPmR_k",
        "colab": {
          "base_uri": "https://localhost:8080/"
        },
        "outputId": "48d33a1d-04b4-46ce-834a-0b3036e62058"
      },
      "execution_count": null,
      "outputs": [
        {
          "output_type": "stream",
          "name": "stdout",
          "text": [
            "Overwriting ex2.py\n"
          ]
        }
      ]
    },
    {
      "cell_type": "code",
      "source": [
        "#Pass number of clusters as argument\n",
        "! mpirun --allow-run-as-root --use-hwthread-cpus -n 1 python ex2.py 4\n",
        "! mpirun --allow-run-as-root --use-hwthread-cpus -n 2 python ex2.py 4"
      ],
      "metadata": {
        "colab": {
          "base_uri": "https://localhost:8080/"
        },
        "id": "9YawOkdlojQC",
        "outputId": "19bf6f24-d07d-4f21-d62f-a3f6baeb8450"
      },
      "execution_count": null,
      "outputs": [
        {
          "output_type": "stream",
          "name": "stdout",
          "text": [
            "Cores: 1\n",
            "K=4\n",
            "Time to load the data: 0.004915908\n",
            "Time to clusterize the data: 0.152037469\n",
            "Cores: 2\n",
            "K=4\n",
            "Time to load the data: 0.004623903\n",
            "Time to clusterize the data: 0.06454839\n"
          ]
        }
      ]
    },
    {
      "cell_type": "markdown",
      "source": [
        "We can notice a reduction of 57% in the clusterization time when using with 2 cores"
      ],
      "metadata": {
        "id": "CFA0jhA_bV6d"
      }
    },
    {
      "cell_type": "code",
      "source": [
        "import matplotlib.pyplot as plt\n",
        "import numpy as np\n",
        "\n",
        "cluster = pd.read_csv(\"ex2_cluster.csv\", header=None).values\n",
        "centroids = pd.read_csv(\"ex2_centroids.csv\", names=['x','y'])\n",
        "\n",
        "fig, ax = plt.subplots()\n",
        "\n",
        "ax.scatter(df['x'], df['y'], c=cluster, marker='.')\n",
        "ax.scatter(centroids['x'], centroids['y'], s=100, c=np.arange(len(centroids)), marker='o')\n",
        "\n",
        "ax.set_title('Clusters')\n",
        "ax.set_xlabel('x')\n",
        "ax.set_ylabel('y')\n",
        "\n",
        "plt.show()"
      ],
      "metadata": {
        "colab": {
          "base_uri": "https://localhost:8080/",
          "height": 472
        },
        "id": "P6IWi-tfPaio",
        "outputId": "67c57d9d-d6a4-4570-99e7-8ee59e4ebf53"
      },
      "execution_count": null,
      "outputs": [
        {
          "output_type": "display_data",
          "data": {
            "text/plain": [
              "<Figure size 640x480 with 1 Axes>"
            ],
            "image/png": "[encoded data removed]"
          },
          "metadata": {}
        }
      ]
    }
  ]
}